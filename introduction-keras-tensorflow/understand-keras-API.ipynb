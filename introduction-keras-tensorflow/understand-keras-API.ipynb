{
 "cells": [
  {
   "cell_type": "markdown",
   "metadata": {},
   "source": [
    "# Anatomy of a neural network: Understanding core Keras APIs"
   ]
  },
  {
   "cell_type": "markdown",
   "metadata": {},
   "source": [
    "## Processamento de Dados em Tensores\n",
    "\n",
    "Diferentes tipos de dados são armazenados em tensores de diferentes dimensões e processados por camadas apropriadas em redes neurais:\n",
    "\n",
    "- **Dados vetoriais simples**: Armazenados em tensores de rank-2 com forma `(samples, features)`. Processados por camadas densamente conectadas (*Dense*).\n",
    "- **Dados sequenciais**: Armazenados em tensores de rank-3 com forma `(samples, timesteps, features)`. Processados por camadas recorrentes (*LSTM*) ou convolucionais 1D (*Conv1D*).\n",
    "- **Dados de imagem**: Armazenados em tensores de rank-4. Processados por camadas convolucionais 2D (*Conv2D*)."
   ]
  },
  {
   "cell_type": "markdown",
   "metadata": {},
   "source": [
    "## Estrutura da API do Keras: A Classe Layer\n",
    "\n",
    "Uma API simples deve ter uma única abstração central. No Keras, essa abstração é a classe **Layer**. Tudo no Keras é uma **Layer** ou interage diretamente com uma.\n",
    "\n",
    "- **O que é uma Layer?**  \n",
    "  - Um objeto que encapsula **estado** (pesos) e **cálculo** (forward pass).\n",
    "  - Os pesos são geralmente definidos no método `build()` (ou podem ser criados no construtor `__init__()`).\n",
    "  - O cálculo é implementado no método `call()`.\n"
   ]
  },
  {
   "cell_type": "code",
   "execution_count": 11,
   "metadata": {},
   "outputs": [],
   "source": [
    "import tensorflow as tf\n",
    "import numpy as np\n",
    "from tensorflow import keras"
   ]
  },
  {
   "cell_type": "markdown",
   "metadata": {},
   "source": [
    "#### Construção de camada densa (fully connected layer) personalizada no Keras. Essa camada funciona como um neurônio artificial: ela recebe uma entrada, multiplica por pesos, soma um viés (bias) e aplica uma ativação."
   ]
  },
  {
   "cell_type": "code",
   "execution_count": null,
   "metadata": {},
   "outputs": [],
   "source": [
    "class SimpleDense(keras.layers.Layer):\n",
    "    def __init__(self, units, activation=None):\n",
    "        super().__init__() # chama o construtor da classe Layer\n",
    "        self.units = units # units = qtd de neuronios\n",
    "        self.activation = activation # transforma a saída para ajudar na aprendizagem\n",
    "\n",
    "    def build(self, input_shape): # build serve para criar pesos da camada\n",
    "        input_dim = input_shape[-1]\n",
    "        self.W = self.add_weight(shape=(input_dim, self.units), initializer=\"random_normal\")\n",
    "        self.b = self.add_weight(shape=(self.units,), initializer=\"zeros\")\n",
    "\n",
    "    def call(self, inputs): # call faz o calculo da saida da camada\n",
    "        y = tf.matmul(inputs, self.W) + self.b\n",
    "        if self.activation is not None:\n",
    "            y = self.activation(y)\n",
    "        return y"
   ]
  },
  {
   "cell_type": "code",
   "execution_count": 5,
   "metadata": {},
   "outputs": [
    {
     "name": "stdout",
     "output_type": "stream",
     "text": [
      "(2, 32)\n"
     ]
    }
   ],
   "source": [
    "my_dense = SimpleDense(units=32, activation=tf.nn.relu)\n",
    "input_tensor = tf.ones(shape=(2, 784))\n",
    "output_tensor = my_dense(input_tensor)\n",
    "print(output_tensor.shape)"
   ]
  },
  {
   "cell_type": "markdown",
   "metadata": {},
   "source": [
    "#### Layers definidas no Keras \n",
    "\n",
    "Possuem inferência automática de formato"
   ]
  },
  {
   "cell_type": "code",
   "execution_count": 7,
   "metadata": {},
   "outputs": [],
   "source": [
    "from tensorflow.keras import models, layers\n",
    "\n",
    "model = models.Sequential([\n",
    "    layers.Dense(32, activation=\"relu\"),\n",
    "    layers.Dense(64, activation=\"relu\"),\n",
    "    layers.Dense(32, activation=\"relu\"),\n",
    "    layers.Dense(10, activation=\"softmax\")\n",
    "])"
   ]
  },
  {
   "cell_type": "markdown",
   "metadata": {},
   "source": [
    "-----"
   ]
  },
  {
   "cell_type": "markdown",
   "metadata": {},
   "source": [
    "## **From Layers to Models**\n",
    "\n",
    "### **1. Modelos de Deep Learning**\n",
    "Um modelo de deep learning é essencialmente um **grafo de camadas**. No Keras, esse conceito é representado pela classe `Model`. \n",
    "\n",
    "### **2. Tipos de Arquiteturas de Redes Neurais**\n",
    "Há uma variedade maior de topologias de redes. Algumas das mais comuns são:\n",
    "- **Redes de duas ramificações (Two-branch networks)**\n",
    "- **Redes multihead (Multihead networks)**\n",
    "- **Conexões residuais (Residual connections)**\n",
    "\n",
    "O design da topologia de uma rede pode se tornar bastante complexo. Um exemplo clássico é a arquitetura **Transformer**, usada para processar dados textuais.\n",
    "\n",
    "### **3. Como Construir Modelos no Keras**\n",
    "Existem **duas abordagens principais** para construir modelos no Keras:\n",
    "1. **Subclasse da classe `Model`** → Criamos modelos personalizados estendendo a classe `Model`.\n",
    "2. **Functional API** → Permite construir modelos mais flexíveis e reutilizáveis com menos código.\n",
    "\n",
    "Ambas as abordagens serão exploradas mais a fundo nos notebooks seguintes.\n",
    "\n",
    "### **4. A Topologia do Modelo e o Espaço de Hipóteses**\n",
    "A topologia do modelo é como o design da rede neural—ou seja, como as camadas são organizadas e conectadas. Isso define um espaço de hipóteses, que é o conjunto de soluções possíveis que o modelo pode aprender a partir dos dados.\n",
    "\n",
    "O modelo aprende recebendo um sinal de feedback (o erro entre a previsão e o valor real) e ajusta seus pesos para melhorar as previsões."
   ]
  },
  {
   "cell_type": "markdown",
   "metadata": {},
   "source": [
    "-----"
   ]
  },
  {
   "cell_type": "markdown",
   "metadata": {},
   "source": [
    "### 🛠️ `compile()`: Configurando o Modelo  \n",
    "Antes de treinar uma rede neural no Keras, precisamos configurar como ela será otimizada. O método `compile()` define:  \n",
    "\n",
    "1. **Otimizador**: Controla como os pesos da rede serão ajustados (ex: `adam`, `sgd`).  \n",
    "2. **Função de perda**: Mede o erro entre as previsões e os valores reais (ex: `categorical_crossentropy`, `mse`).  \n",
    "3. **Métricas**: Acompanha o desempenho durante o treinamento (ex: `accuracy`).  \n"
   ]
  },
  {
   "cell_type": "code",
   "execution_count": null,
   "metadata": {},
   "outputs": [],
   "source": [
    "model = keras.Sequential([keras.layers.Dense(1)])\n",
    "\n",
    "# importante escolher um otimizador, uma loss e as métricas\n",
    "model.compile(optimizer=\"rmsprop\",\n",
    " loss=\"mean_squared_error\",\n",
    " metrics=[\"accuracy\"])"
   ]
  },
  {
   "cell_type": "markdown",
   "metadata": {},
   "source": [
    "### 📊 `fit()`: Treinando o Modelo  \n",
    "Após compilar, usamos `fit()` para **treinar** a rede neural com os dados. Esse método ajusta os pesos da rede para minimizar o erro da função de perda.  \n",
    "\n",
    "🔹 **Parâmetros principais:**  \n",
    "- `x` e `y`: Dados de entrada e saída.  \n",
    "- `epochs`: Número de vezes que a rede verá os dados completos.  \n",
    "- `batch_size`: Quantos exemplos são processados antes de atualizar os pesos.  \n",
    "- `validation_data`: Dados para avaliar o desempenho durante o treinamento.  "
   ]
  },
  {
   "cell_type": "code",
   "execution_count": 12,
   "metadata": {},
   "outputs": [
    {
     "name": "stderr",
     "output_type": "stream",
     "text": [
      "c:\\Users\\BeatrizAlmeida\\anaconda3\\envs\\redes-neurais\\Lib\\site-packages\\keras\\src\\layers\\core\\dense.py:87: UserWarning: Do not pass an `input_shape`/`input_dim` argument to a layer. When using Sequential models, prefer using an `Input(shape)` object as the first layer in the model instead.\n",
      "  super().__init__(activity_regularizer=activity_regularizer, **kwargs)\n"
     ]
    },
    {
     "name": "stdout",
     "output_type": "stream",
     "text": [
      "Epoch 1/5\n",
      "\u001b[1m8/8\u001b[0m \u001b[32m━━━━━━━━━━━━━━━━━━━━\u001b[0m\u001b[37m\u001b[0m \u001b[1m2s\u001b[0m 10ms/step - accuracy: 0.4662 - loss: 0.7313\n",
      "Epoch 2/5\n",
      "\u001b[1m8/8\u001b[0m \u001b[32m━━━━━━━━━━━━━━━━━━━━\u001b[0m\u001b[37m\u001b[0m \u001b[1m0s\u001b[0m 7ms/step - accuracy: 0.5054 - loss: 0.7004 \n",
      "Epoch 3/5\n",
      "\u001b[1m8/8\u001b[0m \u001b[32m━━━━━━━━━━━━━━━━━━━━\u001b[0m\u001b[37m\u001b[0m \u001b[1m0s\u001b[0m 10ms/step - accuracy: 0.4881 - loss: 0.7040\n",
      "Epoch 4/5\n",
      "\u001b[1m8/8\u001b[0m \u001b[32m━━━━━━━━━━━━━━━━━━━━\u001b[0m\u001b[37m\u001b[0m \u001b[1m0s\u001b[0m 8ms/step - accuracy: 0.5182 - loss: 0.6980 \n",
      "Epoch 5/5\n",
      "\u001b[1m8/8\u001b[0m \u001b[32m━━━━━━━━━━━━━━━━━━━━\u001b[0m\u001b[37m\u001b[0m \u001b[1m0s\u001b[0m 8ms/step - accuracy: 0.4906 - loss: 0.6988 \n",
      "{'accuracy': [0.4830000102519989, 0.5009999871253967, 0.5040000081062317, 0.5009999871253967, 0.5059999823570251], 'loss': [0.7173683047294617, 0.7016859650611877, 0.6998783946037292, 0.699131965637207, 0.6971515417098999]}\n"
     ]
    }
   ],
   "source": [
    "inputs = np.random.rand(1000, 20)  \n",
    "targets = np.random.randint(0, 2, size=(1000,))  # 1000 saídas binárias (0 ou 1)\n",
    "\n",
    "model = keras.Sequential([\n",
    "    layers.Dense(32, activation=\"relu\", input_shape=(20,)),\n",
    "    layers.Dense(1, activation=\"sigmoid\")  # saída binária\n",
    "])\n",
    "\n",
    "# compilando\n",
    "model.compile(optimizer=\"adam\", loss=\"binary_crossentropy\", metrics=[\"accuracy\"])\n",
    "\n",
    "# treinando o modelo com fit\n",
    "history = model.fit(inputs, targets, epochs=5, batch_size=128)\n",
    "\n",
    "print(history.history)"
   ]
  }
 ],
 "metadata": {
  "kernelspec": {
   "display_name": "redes-neurais",
   "language": "python",
   "name": "python3"
  },
  "language_info": {
   "codemirror_mode": {
    "name": "ipython",
    "version": 3
   },
   "file_extension": ".py",
   "mimetype": "text/x-python",
   "name": "python",
   "nbconvert_exporter": "python",
   "pygments_lexer": "ipython3",
   "version": "3.12.8"
  }
 },
 "nbformat": 4,
 "nbformat_minor": 2
}
