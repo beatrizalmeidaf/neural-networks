{
 "cells": [
  {
   "cell_type": "markdown",
   "metadata": {},
   "source": [
    "# Anatomia Rede Neural"
   ]
  },
  {
   "cell_type": "markdown",
   "metadata": {},
   "source": [
    "## Layers: Os blocos fundamentais do Deep Learning\n",
    "\n",
    "### **O que são camadas em redes neurais?**  \n",
    "As **camadas (layers)** são os blocos fundamentais das redes neurais. Elas funcionam como módulos de processamento de dados, recebendo um ou mais **tensores** de entrada e gerando um ou mais **tensores** de saída.  \n",
    "\n",
    "Algumas camadas não possuem estado interno (*stateless*), mas, na maioria dos casos, as camadas possuem **pesos treináveis**. Esses pesos são tensores aprendidos por meio do **gradiente descendente estocástico (SGD)** e representam o conhecimento adquirido pela rede.\n",
    "\n",
    "### **Tipos de camadas para diferentes formatos de dados**  \n",
    "Cada tipo de camada é adequado para um formato específico de tensor e para diferentes tipos de processamento de dados:\n",
    "\n",
    "- **Dados vetoriais simples** (tensores de rank-2, formato *(samples, features)*):  \n",
    "  - Processados por **camadas densamente conectadas** (*Dense layers*), também chamadas de **fully connected**.  \n",
    "  - Exemplo: `Dense(units=64, activation=\"relu\")` no Keras.\n",
    "\n",
    "- **Dados sequenciais** (tensores de rank-3, formato *(samples, timesteps, features)*):  \n",
    "  - Processados por **camadas recorrentes** (como **LSTM**) ou **camadas convolucionais 1D** (`Conv1D`).  \n",
    "  - Exemplo: `LSTM(128, return_sequences=True)`.  \n",
    "\n",
    "- **Dados de imagem** (tensores de rank-4, formato *(samples, height, width, channels)*):  \n",
    "  - Processados por **camadas convolucionais 2D** (`Conv2D`).  \n",
    "  - Exemplo: `Conv2D(filters=32, kernel_size=(3,3), activation=\"relu\")`.  \n",
    "\n",
    "Podemos imaginar as camadas como **peças de LEGO**, onde combinamos diferentes blocos compatíveis para formar um **pipeline de transformação de dados**.\n",
    "\n",
    "### **A classe base Layer no Keras**  \n",
    "No Keras, a construção de modelos é feita a partir da **classe base `Layer`**, que serve como abstração central.  \n",
    "\n",
    "#### **Estrutura da classe Layer**\n",
    "Uma **camada (`Layer`)** encapsula dois componentes principais:\n",
    "1. **Estado interno (pesos):** Normalmente definidos no método `build()`.  \n",
    "2. **Computação (passagem para frente ou forward pass):** Definida no método `call()`.  \n",
    "\n",
    "### **Conclusão**\n",
    "As **camadas** são os componentes essenciais do Deep Learning, permitindo transformar e processar dados em redes neurais. No Keras, a construção de modelos é feita encaixando camadas compatíveis, e a classe base `Layer` permite a criação de novas camadas personalizadas."
   ]
  }
 ],
 "metadata": {
  "kernelspec": {
   "display_name": "redes-neurais",
   "language": "python",
   "name": "python3"
  },
  "language_info": {
   "name": "python",
   "version": "3.12.8"
  }
 },
 "nbformat": 4,
 "nbformat_minor": 2
}
