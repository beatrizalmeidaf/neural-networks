{
 "cells": [
  {
   "cell_type": "markdown",
   "metadata": {},
   "source": [
    "# Representações de dados para redes neurais"
   ]
  },
  {
   "cell_type": "markdown",
   "metadata": {},
   "source": [
    "### Scalars (rank-0 tensors)\n",
    "\n",
    "Um tensor que contém apenas um número é chamado de escalar. No NumPy, um número float32 ou float64 é um tensor escalar (ou matriz escalar)"
   ]
  },
  {
   "cell_type": "code",
   "execution_count": 1,
   "metadata": {},
   "outputs": [],
   "source": [
    "import numpy as np"
   ]
  },
  {
   "cell_type": "code",
   "execution_count": 2,
   "metadata": {},
   "outputs": [
    {
     "data": {
      "text/plain": [
       "array(12)"
      ]
     },
     "execution_count": 2,
     "metadata": {},
     "output_type": "execute_result"
    }
   ],
   "source": [
    "x = np.array(12)\n",
    "x"
   ]
  },
  {
   "cell_type": "code",
   "execution_count": 3,
   "metadata": {},
   "outputs": [
    {
     "data": {
      "text/plain": [
       "0"
      ]
     },
     "execution_count": 3,
     "metadata": {},
     "output_type": "execute_result"
    }
   ],
   "source": [
    "x.ndim"
   ]
  },
  {
   "cell_type": "markdown",
   "metadata": {},
   "source": [
    "### Vectors (rank-1 tensors)\n",
    "\n",
    "Uma matriz de números é chamada de vetor, ou tensor de classificação 1, ou tensor 1D. Um tensor de classificação 1 tem exatamente um eixo"
   ]
  },
  {
   "cell_type": "code",
   "execution_count": 4,
   "metadata": {},
   "outputs": [
    {
     "data": {
      "text/plain": [
       "array([12,  3,  6, 14,  7])"
      ]
     },
     "execution_count": 4,
     "metadata": {},
     "output_type": "execute_result"
    }
   ],
   "source": [
    "x = np.array([12, 3, 6, 14, 7])\n",
    "x"
   ]
  },
  {
   "cell_type": "code",
   "execution_count": 5,
   "metadata": {},
   "outputs": [
    {
     "data": {
      "text/plain": [
       "1"
      ]
     },
     "execution_count": 5,
     "metadata": {},
     "output_type": "execute_result"
    }
   ],
   "source": [
    "x.ndim"
   ]
  },
  {
   "cell_type": "code",
   "execution_count": 6,
   "metadata": {},
   "outputs": [
    {
     "data": {
      "text/plain": [
       "(5,)"
      ]
     },
     "execution_count": 6,
     "metadata": {},
     "output_type": "execute_result"
    }
   ],
   "source": [
    "x.shape"
   ]
  },
  {
   "cell_type": "markdown",
   "metadata": {},
   "source": [
    "### Matrices (rank-2 tensors)\n",
    "\n",
    "Uma matriz de vetores é uma matriz, ou tensor de classificação 2. Uma matriz tem dois eixos, ou seja, linhas e colunas"
   ]
  },
  {
   "cell_type": "code",
   "execution_count": 7,
   "metadata": {},
   "outputs": [
    {
     "data": {
      "text/plain": [
       "array([[ 5, 78,  2, 34,  0],\n",
       "       [ 6, 79,  3, 35,  1],\n",
       "       [ 7, 80,  4, 36,  2]])"
      ]
     },
     "execution_count": 7,
     "metadata": {},
     "output_type": "execute_result"
    }
   ],
   "source": [
    "x = np.array([[5, 78, 2, 34, 0],\n",
    "              [6, 79, 3, 35, 1],\n",
    "              [7, 80, 4, 36, 2]])\n",
    "\n",
    "x"
   ]
  },
  {
   "cell_type": "code",
   "execution_count": 8,
   "metadata": {},
   "outputs": [
    {
     "data": {
      "text/plain": [
       "2"
      ]
     },
     "execution_count": 8,
     "metadata": {},
     "output_type": "execute_result"
    }
   ],
   "source": [
    "x.ndim"
   ]
  },
  {
   "cell_type": "code",
   "execution_count": 9,
   "metadata": {},
   "outputs": [
    {
     "data": {
      "text/plain": [
       "(3, 5)"
      ]
     },
     "execution_count": 9,
     "metadata": {},
     "output_type": "execute_result"
    }
   ],
   "source": [
    "x.shape"
   ]
  },
  {
   "cell_type": "markdown",
   "metadata": {},
   "source": [
    "### Rank-3 and higher-rank tensors\n",
    "\n",
    "Empacotar matrizes em uma nova matriz obterá um tensor de classificação 3 (ou tensor 3D)"
   ]
  },
  {
   "cell_type": "code",
   "execution_count": 10,
   "metadata": {},
   "outputs": [
    {
     "data": {
      "text/plain": [
       "array([[[ 5, 78,  2, 34,  0],\n",
       "        [ 6, 79,  3, 35,  1],\n",
       "        [ 7, 80,  4, 36,  2]],\n",
       "\n",
       "       [[ 5, 78,  2, 34,  0],\n",
       "        [ 6, 79,  3, 35,  1],\n",
       "        [ 7, 80,  4, 36,  2]],\n",
       "\n",
       "       [[ 5, 78,  2, 34,  0],\n",
       "        [ 6, 79,  3, 35,  1],\n",
       "        [ 7, 80,  4, 36,  2]]])"
      ]
     },
     "execution_count": 10,
     "metadata": {},
     "output_type": "execute_result"
    }
   ],
   "source": [
    "x = np.array([[[5, 78, 2, 34, 0],\n",
    "               [6, 79, 3, 35, 1],\n",
    "               [7, 80, 4, 36, 2]],\n",
    "              [[5, 78, 2, 34, 0],\n",
    "               [6, 79, 3, 35, 1],\n",
    "               [7, 80, 4, 36, 2]],\n",
    "              [[5, 78, 2, 34, 0],\n",
    "               [6, 79, 3, 35, 1],\n",
    "               [7, 80, 4, 36, 2]]])\n",
    "\n",
    "x"
   ]
  },
  {
   "cell_type": "code",
   "execution_count": 11,
   "metadata": {},
   "outputs": [
    {
     "data": {
      "text/plain": [
       "3"
      ]
     },
     "execution_count": 11,
     "metadata": {},
     "output_type": "execute_result"
    }
   ],
   "source": [
    "x.ndim"
   ]
  },
  {
   "cell_type": "code",
   "execution_count": 12,
   "metadata": {},
   "outputs": [
    {
     "data": {
      "text/plain": [
       "(3, 3, 5)"
      ]
     },
     "execution_count": 12,
     "metadata": {},
     "output_type": "execute_result"
    }
   ],
   "source": [
    "x.shape"
   ]
  },
  {
   "cell_type": "markdown",
   "metadata": {},
   "source": [
    "----"
   ]
  },
  {
   "cell_type": "code",
   "execution_count": 13,
   "metadata": {},
   "outputs": [],
   "source": [
    "from tensorflow.keras.datasets import mnist\n",
    "\n",
    "(train_images, train_labels), (test_images, test_labels) = mnist.load_data()"
   ]
  },
  {
   "cell_type": "code",
   "execution_count": 14,
   "metadata": {},
   "outputs": [
    {
     "data": {
      "text/plain": [
       "3"
      ]
     },
     "execution_count": 14,
     "metadata": {},
     "output_type": "execute_result"
    }
   ],
   "source": [
    "train_images.ndim"
   ]
  },
  {
   "cell_type": "code",
   "execution_count": 15,
   "metadata": {},
   "outputs": [
    {
     "data": {
      "text/plain": [
       "(60000, 28, 28)"
      ]
     },
     "execution_count": 15,
     "metadata": {},
     "output_type": "execute_result"
    }
   ],
   "source": [
    "train_images.shape"
   ]
  },
  {
   "cell_type": "code",
   "execution_count": 16,
   "metadata": {},
   "outputs": [
    {
     "data": {
      "text/plain": [
       "dtype('uint8')"
      ]
     },
     "execution_count": 16,
     "metadata": {},
     "output_type": "execute_result"
    }
   ],
   "source": [
    "train_images.dtype"
   ]
  },
  {
   "cell_type": "markdown",
   "metadata": {},
   "source": [
    "Portanto, temos um tensor de classificação 3 de inteiros de 8 bits. Mais precisamente uma série de 60.000 matrizes de inteiros 28 × 28. Cada uma dessas matrizes é uma imagem em tons de cinza, com coeficientes entre 0 e 255"
   ]
  },
  {
   "cell_type": "code",
   "execution_count": 17,
   "metadata": {},
   "outputs": [
    {
     "data": {
      "image/png": "[encoded data removed]",
      "text/plain": [
       "<Figure size 640x480 with 1 Axes>"
      ]
     },
     "metadata": {},
     "output_type": "display_data"
    }
   ],
   "source": [
    "import matplotlib.pyplot as plt\n",
    "digit = train_images[4]\n",
    "plt.imshow(digit, cmap=plt.cm.binary)\n",
    "plt.show()"
   ]
  },
  {
   "cell_type": "code",
   "execution_count": 18,
   "metadata": {},
   "outputs": [
    {
     "data": {
      "text/plain": [
       "np.uint8(9)"
      ]
     },
     "execution_count": 18,
     "metadata": {},
     "output_type": "execute_result"
    }
   ],
   "source": [
    "train_labels[4]"
   ]
  },
  {
   "cell_type": "markdown",
   "metadata": {},
   "source": [
    "### Manipulando Tensors"
   ]
  },
  {
   "cell_type": "code",
   "execution_count": 19,
   "metadata": {},
   "outputs": [
    {
     "data": {
      "text/plain": [
       "(90, 28, 28)"
      ]
     },
     "execution_count": 19,
     "metadata": {},
     "output_type": "execute_result"
    }
   ],
   "source": [
    "slicing = train_images[10:100]\n",
    "slicing.shape"
   ]
  },
  {
   "cell_type": "code",
   "execution_count": 20,
   "metadata": {},
   "outputs": [
    {
     "data": {
      "text/plain": [
       "(60000, 14, 14)"
      ]
     },
     "execution_count": 20,
     "metadata": {},
     "output_type": "execute_result"
    }
   ],
   "source": [
    "my_slice = train_images[:, 14:, 14:] # é útil para tarefas como recorte de regiões de interesse em imagens antes de processá-las em redes neurais\n",
    "my_slice.shape"
   ]
  },
  {
   "cell_type": "markdown",
   "metadata": {},
   "source": [
    "### Batches\n",
    "\n",
    "Os modelos de aprendizagem profunda não processam um conjunto de dados inteiro de uma só vez, eles dividem os dados em pequenos lotes"
   ]
  },
  {
   "cell_type": "code",
   "execution_count": 21,
   "metadata": {},
   "outputs": [],
   "source": [
    "batch = train_images[:128]\n",
    "batch2 = train_images[128:256]"
   ]
  },
  {
   "cell_type": "markdown",
   "metadata": {},
   "source": [
    "### Tipos de Dados"
   ]
  },
  {
   "attachments": {
    "image.png": {
     "image/png": "[encoded data removed]"
    }
   },
   "cell_type": "markdown",
   "metadata": {},
   "source": [
    "![image.png](attachment:image.png)"
   ]
  },
  {
   "cell_type": "markdown",
   "metadata": {},
   "source": [
    "### Operações com Tensores"
   ]
  },
  {
   "cell_type": "markdown",
   "metadata": {},
   "source": [
    "Exemplo inicial empilhando camadas densas. A camada é uma função matemática que recebe uma matriz como entrada e retorna outra matriz como saída. Em outras palavras, ela gera uma nova representação do tensor de entrada"
   ]
  },
  {
   "attachments": {
    "image.png": {
     "image/png": "[encoded data removed]"
    }
   },
   "cell_type": "markdown",
   "metadata": {},
   "source": [
    "O funcionamento dessa camada segue a seguinte equação matemática\n",
    "\n",
    "![image.png](attachment:image.png)"
   ]
  },
  {
   "cell_type": "markdown",
   "metadata": {},
   "source": [
    "Onde:\n",
    "\n",
    "input → é a matriz de entrada (os dados que passam pela camada).\n",
    "\n",
    "W → é uma matriz de pesos aprendidos pela rede durante o treinamento.\n",
    "\n",
    "b → é um vetor de bias (também aprendido pelo modelo).\n",
    "\n",
    "ReLU → é a função de ativação aplicada ao resultado da operação anterior.\n",
    "\n",
    "Isso significa que a camada transforma os dados de entrada em uma nova representação, ajustando os pesos e viés ao longo do treinamento para melhorar a capacidade do modelo de aprender padrões nos dados."
   ]
  },
  {
   "cell_type": "markdown",
   "metadata": {},
   "source": [
    "### ReLU"
   ]
  },
  {
   "cell_type": "markdown",
   "metadata": {},
   "source": [
    "Função usada para ajudar o modelo a aprender padrões nos dados. \n",
    "\n",
    "- Se o número for positivo, mantém o número.\n",
    "- Se o número for negativo, transforma em zero.\n",
    "  \n",
    "As implementações ReLU são lentas para matrizes grandes, por isso é melhor utilizar o próprio NumPy para operações vetorizadas"
   ]
  },
  {
   "cell_type": "code",
   "execution_count": 22,
   "metadata": {},
   "outputs": [],
   "source": [
    "import numpy as np"
   ]
  },
  {
   "cell_type": "code",
   "execution_count": 23,
   "metadata": {},
   "outputs": [],
   "source": [
    "x = np.random.random((20, 100))\n",
    "y = np.random.random((20, 100))\n",
    "\n",
    "z = x + y # operação vetorizada\n",
    "z = np.maximum(z, 0.) # aplica ReLU"
   ]
  },
  {
   "cell_type": "code",
   "execution_count": 24,
   "metadata": {},
   "outputs": [
    {
     "name": "stdout",
     "output_type": "stream",
     "text": [
      "[[1.0074097  0.83571387 1.1289722  ... 0.32504292 1.16218326 1.30384152]\n",
      " [1.05675175 0.76561412 1.70601319 ... 1.23848243 0.79078664 0.98714861]\n",
      " [1.3959036  0.63780238 1.39802573 ... 0.35795937 1.8149578  1.35047899]\n",
      " ...\n",
      " [0.84687889 1.34429075 0.75179704 ... 0.7286916  0.49842763 0.21672737]\n",
      " [0.95493607 1.64320884 1.67584327 ... 0.77236344 1.23605956 0.53804733]\n",
      " [0.93680243 1.2374935  1.46331357 ... 1.11808607 1.00916491 0.39126509]]\n"
     ]
    }
   ],
   "source": [
    "print(z)"
   ]
  },
  {
   "cell_type": "markdown",
   "metadata": {},
   "source": [
    "### Broadcasting\n",
    "\n",
    "Se os tensores possuem formas diferentes, o NumPy automaticamente \"expande\" o tensor menor para que ele tenha o mesmo shape do maior, sem duplicar os dados na memória. Isso se chama broadcasting"
   ]
  },
  {
   "cell_type": "code",
   "execution_count": 29,
   "metadata": {},
   "outputs": [],
   "source": [
    "X = np.random.random((32, 20))\n",
    "y = np.random.random((20, ))"
   ]
  },
  {
   "cell_type": "code",
   "execution_count": 30,
   "metadata": {},
   "outputs": [],
   "source": [
    "y = np.expand_dims(y, axis=0) # agora tem shape (1,10)"
   ]
  },
  {
   "cell_type": "code",
   "execution_count": 31,
   "metadata": {},
   "outputs": [],
   "source": [
    "Y = np.concatenate([y] * 32, axis=0) # agora tem o mesmo shape de x"
   ]
  },
  {
   "cell_type": "code",
   "execution_count": 33,
   "metadata": {},
   "outputs": [
    {
     "name": "stdout",
     "output_type": "stream",
     "text": [
      "[[0.59319706 0.43567588 1.2624115  0.35632325 1.56954329 0.58178387\n",
      "  0.58756224 1.3018817  0.82438326 0.88976741 1.22908157 0.77617984\n",
      "  1.07404895 1.35393096 0.5631481  0.67067172 0.22010384 1.76798293\n",
      "  0.94042682 0.83807484]\n",
      " [0.90738794 0.80079648 1.06805856 0.66028754 0.98506857 0.22548786\n",
      "  0.52793734 1.50018627 0.4989511  1.07535409 0.84894289 1.58946154\n",
      "  0.94317307 1.37129643 0.6030783  0.21178729 0.26058804 1.49518233\n",
      "  0.72532686 0.75543082]\n",
      " [0.68821225 0.94750305 1.47467027 0.81438849 1.52298434 0.39879946\n",
      "  1.18691229 1.26780021 0.91595326 1.147139   1.46111409 0.93787903\n",
      "  0.5560564  1.31021514 0.37268809 0.13191098 0.53579072 1.55735549\n",
      "  0.80922624 1.04753683]\n",
      " [1.21633203 0.87289954 0.94948758 1.05172576 0.93231924 0.01404199\n",
      "  0.68776476 1.61153594 0.79088055 1.47436761 1.34976088 1.50765646\n",
      "  1.20998671 0.8062394  0.34585798 0.93288968 0.18759176 1.40677998\n",
      "  1.08262854 0.43656256]\n",
      " [1.20468616 0.42947561 1.00500274 1.03279834 1.15620639 0.44673098\n",
      "  0.92058751 1.48843559 1.09812737 1.43054915 1.26475315 1.59452433\n",
      "  0.45159403 1.26817653 0.8452783  0.1488606  0.6313435  1.57546326\n",
      "  0.56365682 0.15365234]\n",
      " [0.75268424 0.27102588 0.76189498 0.7830793  1.64371109 0.19624633\n",
      "  0.98129839 0.98259143 0.64096186 1.05428117 1.29162925 1.3917932\n",
      "  1.11665422 1.28775654 0.62415511 0.301114   0.4581344  1.73731675\n",
      "  0.2766433  0.68754661]\n",
      " [0.80553682 0.23470849 1.31437857 0.50556437 1.1995776  0.26743474\n",
      "  1.05470246 0.93297483 1.02067897 1.1513482  0.95376052 1.46805296\n",
      "  0.4890973  1.33328422 0.79212936 0.46563786 0.64669575 1.75532948\n",
      "  0.77177266 0.79345432]\n",
      " [0.87209504 0.86136901 0.74127249 0.8306703  1.21497134 0.5368643\n",
      "  0.91799627 0.74220036 0.96986612 0.95647981 0.82595205 1.24221173\n",
      "  0.58551371 0.43396784 0.82444643 0.44828579 0.09104092 1.32816304\n",
      "  1.16006044 1.07395702]\n",
      " [0.33909239 0.69864441 1.6376259  0.55890614 1.63769181 0.48238406\n",
      "  0.82155986 0.74016681 0.4526944  1.64293213 0.89098494 1.44006212\n",
      "  1.03902667 1.04789483 1.16672094 0.23525017 0.54977179 1.82447602\n",
      "  0.3442524  0.47420008]\n",
      " [0.35050301 0.86875401 1.48907103 1.13510093 1.41863787 0.40014815\n",
      "  1.45759549 1.32688772 0.56815776 1.44772279 1.04179868 1.56498323\n",
      "  0.37509687 0.95809772 0.55036779 0.48754825 1.03543962 1.81014204\n",
      "  0.75744597 0.54893132]\n",
      " [0.68315735 0.49106623 0.73581969 1.06176187 1.39890401 0.11864659\n",
      "  1.03384529 1.1350838  0.4100662  1.02948928 0.99855745 1.39237998\n",
      "  1.05643799 0.91359895 0.94786269 0.51088288 0.68042689 1.7748248\n",
      "  0.36486095 0.80730079]\n",
      " [1.19518387 0.9045776  1.63380078 0.36982445 1.35979668 0.94621116\n",
      "  1.27696496 1.52345255 1.0761542  0.88002541 1.35241383 0.68883602\n",
      "  1.19590601 0.90998691 1.03317143 0.56002885 0.84705377 1.75989347\n",
      "  0.82393223 0.64923437]\n",
      " [1.26700479 0.9518244  1.61073497 0.84917475 1.11715949 0.23811687\n",
      "  0.93836602 1.66523873 0.79560341 1.12952255 0.80465717 0.9426493\n",
      "  0.67920931 0.55163774 0.65264311 0.59579708 0.80462037 1.630152\n",
      "  0.47028997 0.5580145 ]\n",
      " [0.59408136 0.9272499  1.46352483 0.49769005 0.95711052 0.44027243\n",
      "  1.3912265  1.7180534  0.34748481 1.42943803 1.03265826 1.14022166\n",
      "  0.63160477 0.91950072 0.77219331 0.66266291 0.21516893 1.80437802\n",
      "  0.80736689 0.93842205]\n",
      " [1.22211563 0.6563115  1.09984015 0.77471416 0.78863898 0.01766258\n",
      "  1.27089861 1.5692743  0.72594445 1.77639327 0.53806249 1.36945741\n",
      "  0.60572663 0.50851626 0.75251714 0.23209286 0.69715057 1.65967767\n",
      "  0.73011495 0.72237101]\n",
      " [1.12296327 1.00549579 0.65863306 0.69374098 1.50981376 0.88572153\n",
      "  0.87776371 1.19630006 1.22907461 1.71602817 0.78320642 1.67959828\n",
      "  0.55181483 0.37496064 0.39675347 0.56020654 0.62064726 1.70979962\n",
      "  0.44280171 0.18178822]\n",
      " [1.32279697 0.62231106 0.85844818 0.78770838 0.88214024 0.37640067\n",
      "  0.79765192 1.43939956 0.95703272 1.48842172 0.9291271  0.99912086\n",
      "  0.75963568 0.84730683 1.06604014 0.55809929 0.19628764 1.74264553\n",
      "  1.05602161 0.71800342]\n",
      " [0.83311346 1.11120904 0.77234232 1.03226642 1.48883712 0.2753352\n",
      "  1.225969   1.28552769 0.71533549 1.31956043 1.3191877  0.69695133\n",
      "  0.74735493 1.3596147  0.51575661 0.29640034 0.35321009 1.49779565\n",
      "  0.41769341 0.29003167]\n",
      " [0.95337426 0.43494433 1.06959398 0.24275223 1.54594877 0.50244818\n",
      "  1.05849148 1.18913345 0.61627916 1.34583775 1.33553615 1.3468062\n",
      "  0.37580675 0.59261937 0.57580122 1.00066433 0.26974594 1.60293901\n",
      "  0.66153465 0.86222018]\n",
      " [0.66968953 0.27685324 1.63087434 0.47064013 0.86568783 0.81799926\n",
      "  0.59772116 1.14853945 1.10119118 1.12940894 1.45265558 1.14423244\n",
      "  0.92842547 0.4962673  1.12655981 0.86472057 0.88881699 1.40599984\n",
      "  0.56295139 0.43003641]\n",
      " [1.0331635  0.22615748 1.63674747 0.78545364 1.28422422 0.61174797\n",
      "  0.53322972 1.63507523 0.63589571 1.67082052 0.8542632  0.86193124\n",
      "  0.42091662 1.36763295 0.29033205 0.1529668  0.30779082 1.54009876\n",
      "  0.33775773 0.40225981]\n",
      " [0.36937013 0.87742014 0.65737085 0.41501913 1.15485645 0.01599325\n",
      "  0.60538917 1.70103619 0.747687   1.59145547 1.22576017 1.33493409\n",
      "  1.04363575 0.89895963 0.32319087 0.23092809 0.74502248 1.21239483\n",
      "  1.1400755  0.68679194]\n",
      " [0.45460415 0.36491214 0.76231443 0.15596445 1.09262163 0.21310919\n",
      "  0.60592247 1.30838504 1.0584678  1.63792147 1.09274902 0.93638833\n",
      "  0.35775359 0.55103819 0.55959625 0.1416011  0.51113242 1.40350774\n",
      "  0.73439116 0.48333897]\n",
      " [0.55224065 1.12828686 1.26697181 0.85231929 1.70657494 0.17225755\n",
      "  1.11782504 1.25324841 0.40508958 0.87805782 0.95574308 1.43308601\n",
      "  0.87172654 0.5277134  0.91191322 0.84100504 0.39630979 1.87273749\n",
      "  0.78656015 0.42274934]\n",
      " [0.64576277 0.82848332 1.40711038 0.60526925 1.45666382 0.45138178\n",
      "  0.85257778 1.02811439 0.81244867 1.13879463 0.53711153 1.07118281\n",
      "  1.27303849 0.89051768 0.70888042 0.1994092  0.94607971 1.18355536\n",
      "  0.79769814 1.07365189]\n",
      " [1.11534816 0.37103943 1.09682711 0.8826781  1.33540015 0.06725493\n",
      "  1.12087696 1.16916661 0.91000757 1.67700055 0.75606333 0.89518188\n",
      "  0.41688873 1.23875021 0.38507383 0.64632053 1.009483   1.34895306\n",
      "  0.59961546 0.56414701]\n",
      " [0.88491212 0.9528186  0.95451282 1.00698005 0.88417389 0.72930402\n",
      "  0.80354911 1.58618547 0.48247947 0.87209671 0.54859276 1.6690881\n",
      "  0.49334694 0.79420404 0.74611939 0.85766501 0.52925163 1.89212582\n",
      "  0.47517719 0.53454238]\n",
      " [0.95779195 0.76042364 1.20221488 0.97475411 1.6869011  0.2550629\n",
      "  0.96960878 1.51969549 1.09290327 1.69207475 1.05882529 0.86479614\n",
      "  0.73227812 0.47827138 0.85078245 0.38372033 0.28322984 1.06567578\n",
      "  0.83627922 0.54028747]\n",
      " [0.86636511 1.18814358 1.24857584 0.70196282 0.78898044 0.6939049\n",
      "  1.15866546 1.15707887 0.41014647 0.89388329 0.74259748 1.32094194\n",
      "  0.80681299 0.66918955 0.73387394 0.1312643  0.24610522 1.10443183\n",
      "  0.78524699 0.80527818]\n",
      " [0.94610396 0.23357282 0.84352507 0.33396862 0.75632165 0.8959313\n",
      "  0.77288763 1.55151278 0.6746606  1.65758647 1.01952428 1.5562933\n",
      "  0.73759199 0.79929273 1.24632126 0.25537245 0.83529554 1.01365055\n",
      "  0.31198388 0.57260503]\n",
      " [0.52956982 1.04088291 0.74344405 0.57117632 1.43718257 0.72013494\n",
      "  0.65000502 1.61845832 0.55288331 1.01201126 1.3601174  1.08872065\n",
      "  0.81169759 0.63473654 1.20622656 0.75299915 0.42321857 1.4682543\n",
      "  1.16531664 0.69318765]\n",
      " [1.21429993 0.60713828 1.36301126 0.86789367 1.6670955  0.02574012\n",
      "  1.41297655 1.38098298 0.63455347 1.46000169 1.45391593 1.26991479\n",
      "  0.48174336 0.75577059 0.51434742 0.73471245 0.4564951  1.45977197\n",
      "  0.91899877 1.03587019]]\n"
     ]
    }
   ],
   "source": [
    "Z = X + y  \n",
    "print(Z)"
   ]
  },
  {
   "cell_type": "code",
   "execution_count": 34,
   "metadata": {},
   "outputs": [
    {
     "name": "stdout",
     "output_type": "stream",
     "text": [
      "(32, 20)\n"
     ]
    }
   ],
   "source": [
    "print(Z.shape)"
   ]
  },
  {
   "cell_type": "markdown",
   "metadata": {},
   "source": [
    "### Produto Escalar\n",
    "\n",
    "O produto escalar (ou produto interno) entre dois vetores é a soma do produto de seus elementos correspondentes"
   ]
  },
  {
   "cell_type": "code",
   "execution_count": 35,
   "metadata": {},
   "outputs": [
    {
     "name": "stdout",
     "output_type": "stream",
     "text": [
      "7.819768344311868\n"
     ]
    }
   ],
   "source": [
    "x = np.random.random((32,))  \n",
    "y = np.random.random((32,))  \n",
    "\n",
    "z = np.dot(x, y)  \n",
    "print(z)"
   ]
  },
  {
   "cell_type": "code",
   "execution_count": 36,
   "metadata": {},
   "outputs": [
    {
     "name": "stdout",
     "output_type": "stream",
     "text": [
      "(64,)\n"
     ]
    }
   ],
   "source": [
    "X = np.random.random((64, 3))  \n",
    "y = np.random.random((3,))    \n",
    "\n",
    "z = np.dot(X, y)  \n",
    "print(z.shape)  "
   ]
  },
  {
   "cell_type": "code",
   "execution_count": 37,
   "metadata": {},
   "outputs": [
    {
     "name": "stdout",
     "output_type": "stream",
     "text": [
      "(64, 32)\n"
     ]
    }
   ],
   "source": [
    "X = np.random.random((64, 3)) \n",
    "Y = np.random.random((3, 32))  \n",
    "\n",
    "Z = np.dot(X, Y) \n",
    "print(Z.shape)  "
   ]
  },
  {
   "cell_type": "markdown",
   "metadata": {},
   "source": [
    "### Reshaping \n",
    "\n",
    "Reorganizar os elementos de um tensor para um novo formato, sem alterar o número total de elementos. Isso é útil em redes neurais onde muitas vezes precisamos converter imagens, séries temporais ou dados tabulares para formatos específicos"
   ]
  },
  {
   "cell_type": "code",
   "execution_count": 38,
   "metadata": {},
   "outputs": [
    {
     "name": "stdout",
     "output_type": "stream",
     "text": [
      "(6000, 784)\n"
     ]
    }
   ],
   "source": [
    "train_images = np.random.rand(6000, 28, 28)\n",
    "train_images = train_images.reshape((6000, 28*28))\n",
    "print(train_images.shape)"
   ]
  },
  {
   "cell_type": "code",
   "execution_count": 39,
   "metadata": {},
   "outputs": [
    {
     "name": "stdout",
     "output_type": "stream",
     "text": [
      "(3, 2)\n"
     ]
    }
   ],
   "source": [
    "x = np.array([[0., 1.],\n",
    "              [2., 3.],\n",
    "              [4., 5.]])\n",
    "print(x.shape)"
   ]
  },
  {
   "cell_type": "code",
   "execution_count": 40,
   "metadata": {},
   "outputs": [
    {
     "name": "stdout",
     "output_type": "stream",
     "text": [
      "[[0.]\n",
      " [1.]\n",
      " [2.]\n",
      " [3.]\n",
      " [4.]\n",
      " [5.]]\n"
     ]
    }
   ],
   "source": [
    "x = x.reshape((6, 1))  # transformando em um vetor coluna\n",
    "print(x)"
   ]
  },
  {
   "cell_type": "code",
   "execution_count": 41,
   "metadata": {},
   "outputs": [
    {
     "name": "stdout",
     "output_type": "stream",
     "text": [
      "[[0. 1. 2.]\n",
      " [3. 4. 5.]]\n"
     ]
    }
   ],
   "source": [
    "x = x.reshape((2, 3))  \n",
    "print(x)"
   ]
  },
  {
   "cell_type": "code",
   "execution_count": 42,
   "metadata": {},
   "outputs": [
    {
     "data": {
      "text/plain": [
       "(3, 2)"
      ]
     },
     "execution_count": 42,
     "metadata": {},
     "output_type": "execute_result"
    }
   ],
   "source": [
    "x = np.transpose(x)\n",
    "x.shape"
   ]
  },
  {
   "cell_type": "code",
   "execution_count": 43,
   "metadata": {},
   "outputs": [],
   "source": [
    "x = np.array([[0., 1.], [2., 3.], [4., 5.]])\n",
    "x = x.reshape((-1, 1)) # o NumPy ajusta automaticamente a primeira dimensão"
   ]
  },
  {
   "cell_type": "code",
   "execution_count": 44,
   "metadata": {},
   "outputs": [
    {
     "name": "stdout",
     "output_type": "stream",
     "text": [
      "(6, 1)\n"
     ]
    }
   ],
   "source": [
    "print(x.shape)"
   ]
  }
 ],
 "metadata": {
  "kernelspec": {
   "display_name": "redes-neurais",
   "language": "python",
   "name": "python3"
  },
  "language_info": {
   "codemirror_mode": {
    "name": "ipython",
    "version": 3
   },
   "file_extension": ".py",
   "mimetype": "text/x-python",
   "name": "python",
   "nbconvert_exporter": "python",
   "pygments_lexer": "ipython3",
   "version": "3.12.8"
  }
 },
 "nbformat": 4,
 "nbformat_minor": 2
}
