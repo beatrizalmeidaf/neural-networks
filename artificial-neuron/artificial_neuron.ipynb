{
 "cells": [
  {
   "cell_type": "markdown",
   "metadata": {},
   "source": [
    "# Neurônios Artificiais\n",
    "\n",
    "Os neurônios artificiais são modelos matemáticos inspirados no funcionamento dos neurônios biológicos. Eles formam a base das redes neurais artificiais, amplamente utilizadas em aprendizado de máquina.\n",
    "\n",
    "Um neurônio artificial recebe múltiplas entradas (x1, x2, ..., xn) que são multiplicadas por pesos (w1, w2, ..., wn), soma esses valores ponderados e aplica uma função de ativação para determinar a saída.\n",
    "\n",
    "A fórmula geral para um neurônio artificial é:\n",
    "$$\n",
    "y = \\phi\\left(\\sum_{i=1}^n w_i x_i + b\\right)\n",
    "$$\n",
    "Onde:\n",
    "- \\(wi\\): pesos das entradas  \n",
    "- \\(xi\\): valores das entradas  \n",
    "- \\(b\\): bias (viés)  \n",
    "- \\(phi\\): função de ativação  \n",
    "- \\(y\\): saída do neurônio "
   ]
  },
  {
   "cell_type": "markdown",
   "metadata": {},
   "source": [
    "## Perceptrons\n",
    "\n",
    "O perceptron é uma das formas mais simples de neurônio artificial, desenvolvido por **Frank Rosenblatt** em 1958. Ele utiliza uma função de ativação do tipo degrau, que retorna 1 se o valor ponderado da soma for maior que um limiar (threshold), e 0 caso contrário.\n",
    "\n",
    "A regra do perceptron é dada por:\n",
    "$$\n",
    "\\text{Saída} =\n",
    "\\begin{cases} \n",
    "1 & \\text{se } \\sum_{i=1}^n w_i x_i + b > 0 \\\\\n",
    "0 & \\text{caso contrário}\n",
    "\\end{cases}\n",
    "$$"
   ]
  },
  {
   "cell_type": "markdown",
   "metadata": {},
   "source": [
    "## Função Sigmoide\n",
    "A função sigmoide é uma função de ativação que mapeia qualquer valor real em um intervalo entre 0 e 1. É amplamente usada em redes neurais para modelar probabilidades.\n",
    "\n",
    "A fórmula da função sigmoide é:\n",
    "$$\n",
    "\\sigma(x) = \\frac{1}{1 + e^{-x}}\n",
    "$$"
   ]
  },
  {
   "cell_type": "markdown",
   "metadata": {},
   "source": [
    "## Gráfico da Função Sigmoide\n",
    "O gráfico da função sigmoide mostra sua forma em \"S\" característica:\n",
    "\n",
    "![Gráfico da Sigmoide](https://upload.wikimedia.org/wikipedia/commons/8/88/Logistic-curve.svg)"
   ]
  },
  {
   "cell_type": "markdown",
   "metadata": {},
   "source": [
    "## Modelo de Neurônio Artificial\n",
    "A figura abaixo ilustra o funcionamento de um neurônio artificial:\n",
    "\n",
    "![Neurônio Artificial](https://www.researchgate.net/publication/329245206/figure/fig1/AS:715120187555844@1547509347733/Figura-1-Representacao-do-neuronio-artificial.ppm)\n"
   ]
  }
 ],
 "metadata": {
  "language_info": {
   "name": "python"
  }
 },
 "nbformat": 4,
 "nbformat_minor": 2
}
